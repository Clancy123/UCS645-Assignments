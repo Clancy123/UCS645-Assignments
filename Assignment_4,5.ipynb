{
  "nbformat": 4,
  "nbformat_minor": 0,
  "metadata": {
    "colab": {
      "provenance": [],
      "gpuType": "T4"
    },
    "kernelspec": {
      "name": "python3",
      "display_name": "Python 3"
    },
    "language_info": {
      "name": "python"
    },
    "accelerator": "GPU"
  },
  "cells": [
    {
      "cell_type": "code",
      "source": [
        "%%writefile iterative_sum.cu\n",
        "#include <stdio.h>\n",
        "#include <cuda.h>\n",
        "\n",
        "#define N 1024\n",
        "\n",
        "__global__ void iterativeSumKernel(int *input, int *output) {\n",
        "    int sum = 0;\n",
        "    for (int i = 0; i < N; ++i) {\n",
        "        sum += input[i];\n",
        "    }\n",
        "    *output = sum;\n",
        "}\n",
        "\n",
        "int main() {\n",
        "    int h_input[N], h_output;\n",
        "    int *d_input, *d_output;\n",
        "\n",
        "    // Fill input\n",
        "    for (int i = 0; i < N; ++i)\n",
        "        h_input[i] = i;\n",
        "\n",
        "    size_t input_size = N * sizeof(int);\n",
        "    size_t output_size = sizeof(int);\n",
        "\n",
        "    printf(\"Iterative Sum\\n\");\n",
        "    printf(\"Allocating %zu bytes for input\\n\", input_size);\n",
        "    printf(\"Allocating %zu bytes for output\\n\", output_size);\n",
        "\n",
        "    cudaMalloc((void**)&d_input, input_size);\n",
        "    cudaMalloc((void**)&d_output, output_size);\n",
        "\n",
        "    cudaMemcpy(d_input, h_input, input_size, cudaMemcpyHostToDevice);\n",
        "\n",
        "    // Timing\n",
        "    cudaEvent_t start, stop;\n",
        "    float ms = 0;\n",
        "    cudaEventCreate(&start);\n",
        "    cudaEventCreate(&stop);\n",
        "    cudaEventRecord(start);\n",
        "\n",
        "    // Kernel call\n",
        "    iterativeSumKernel<<<1, 1>>>(d_input, d_output);\n",
        "\n",
        "    cudaEventRecord(stop);\n",
        "    cudaEventSynchronize(stop);\n",
        "    cudaEventElapsedTime(&ms, start, stop);\n",
        "\n",
        "    cudaMemcpy(&h_output, d_output, output_size, cudaMemcpyDeviceToHost);\n",
        "\n",
        "    printf(\"Result: %d\\n\", h_output);\n",
        "    printf(\"Time taken (iterative): %.6f ms\\n\", ms);\n",
        "\n",
        "    cudaFree(d_input);\n",
        "    cudaFree(d_output);\n",
        "    cudaEventDestroy(start);\n",
        "    cudaEventDestroy(stop);\n",
        "\n",
        "    return 0;\n",
        "}\n"
      ],
      "metadata": {
        "colab": {
          "base_uri": "https://localhost:8080/"
        },
        "id": "aEV7kC9_V_so",
        "outputId": "c683c732-4f7d-4ed5-d21c-04f36e509394"
      },
      "execution_count": null,
      "outputs": [
        {
          "output_type": "stream",
          "name": "stdout",
          "text": [
            "Writing iterative_sum.cu\n"
          ]
        }
      ]
    },
    {
      "cell_type": "code",
      "source": [
        "%%writefile formula_sum.cu\n",
        "#include <stdio.h>\n",
        "#include <cuda.h>\n",
        "\n",
        "#define N 1024\n",
        "\n",
        "__global__ void formulaSumKernel(int *output) {\n",
        "    *output = N * (N - 1) / 2;\n",
        "}\n",
        "\n",
        "int main() {\n",
        "    int h_output;\n",
        "    int *d_output;\n",
        "\n",
        "    size_t output_size = sizeof(int);\n",
        "\n",
        "    printf(\"Direct Formula Sum\\\\n\");\n",
        "    printf(\"Allocating %zu bytes for output\\\\n\", output_size);\n",
        "\n",
        "    cudaMalloc((void**)&d_output, output_size);\n",
        "\n",
        "    // Timing\n",
        "    cudaEvent_t start, stop;\n",
        "    float ms = 0;\n",
        "    cudaEventCreate(&start);\n",
        "    cudaEventCreate(&stop);\n",
        "    cudaEventRecord(start);\n",
        "\n",
        "    // Kernel call\n",
        "    formulaSumKernel<<<1, 1>>>(d_output);\n",
        "\n",
        "    cudaEventRecord(stop);\n",
        "    cudaEventSynchronize(stop);\n",
        "    cudaEventElapsedTime(&ms, start, stop);\n",
        "\n",
        "    cudaMemcpy(&h_output, d_output, output_size, cudaMemcpyDeviceToHost);\n",
        "\n",
        "    printf(\"Result: %d\\\\n\", h_output);\n",
        "    printf(\"Time taken (formula): %.6f ms\\\\n\", ms);\n",
        "\n",
        "    cudaFree(d_output);\n",
        "    cudaEventDestroy(start);\n",
        "    cudaEventDestroy(stop);\n",
        "\n",
        "    return 0;\n",
        "}\n"
      ],
      "metadata": {
        "colab": {
          "base_uri": "https://localhost:8080/"
        },
        "id": "ry6qWmU8YUv6",
        "outputId": "6ffcf7cc-b8e0-4c2b-916f-5d60cb95c7e4"
      },
      "execution_count": null,
      "outputs": [
        {
          "output_type": "stream",
          "name": "stdout",
          "text": [
            "Writing formula_sum.cu\n"
          ]
        }
      ]
    },
    {
      "cell_type": "code",
      "source": [
        "!nvcc --gpu-architecture=sm_70 iterative_sum.cu -o iterative_sum\n",
        "!nvcc --gpu-architecture=sm_70 formula_sum.cu -o formula_sum\n",
        "\n",
        "!./iterative_sum\n",
        "!./formula_sum\n",
        "\n"
      ],
      "metadata": {
        "colab": {
          "base_uri": "https://localhost:8080/"
        },
        "id": "d016iE_1WCw4",
        "outputId": "40a2f83b-d24e-4aac-d7d2-8f776297f73b"
      },
      "execution_count": null,
      "outputs": [
        {
          "output_type": "stream",
          "name": "stdout",
          "text": [
            "Iterative Sum\\nAllocating 4096 bytes for input\\nAllocating 4 bytes for output\\nResult: 523776\\nTime taken (iterative): 0.200320 ms\\nDirect Formula Sum\\nAllocating 4 bytes for output\\nResult: 523776\\nTime taken (formula): 0.102368 ms\\n"
          ]
        }
      ]
    },
    {
      "cell_type": "code",
      "source": [
        "%%writefile cpu_mergesort.cu\n",
        "#include <stdio.h>\n",
        "#include <stdlib.h>\n",
        "#include <time.h>\n",
        "\n",
        "#define N 1000\n",
        "\n",
        "void merge(int arr[], int left, int mid, int right) {\n",
        "    int i, j, k;\n",
        "    int n1 = mid - left + 1;\n",
        "    int n2 = right - mid;\n",
        "\n",
        "    int* L = (int*)malloc(n1 * sizeof(int));\n",
        "    int* R = (int*)malloc(n2 * sizeof(int));\n",
        "\n",
        "    for (i = 0; i < n1; i++) L[i] = arr[left + i];\n",
        "    for (j = 0; j < n2; j++) R[j] = arr[mid + 1 + j];\n",
        "\n",
        "    i = 0; j = 0; k = left;\n",
        "\n",
        "    while (i < n1 && j < n2) {\n",
        "        if (L[i] <= R[j])\n",
        "            arr[k++] = L[i++];\n",
        "        else\n",
        "            arr[k++] = R[j++];\n",
        "    }\n",
        "\n",
        "    while (i < n1) arr[k++] = L[i++];\n",
        "    while (j < n2) arr[k++] = R[j++];\n",
        "\n",
        "    free(L);\n",
        "    free(R);\n",
        "}\n",
        "\n",
        "void mergeSort(int arr[], int left, int right) {\n",
        "    if (left < right) {\n",
        "        int mid = left + (right - left) / 2;\n",
        "\n",
        "        mergeSort(arr, left, mid);\n",
        "        mergeSort(arr, mid + 1, right);\n",
        "        merge(arr, left, mid, right);\n",
        "    }\n",
        "}\n",
        "\n",
        "int main() {\n",
        "    int arr[N];\n",
        "    srand(42); // fixed seed for comparison\n",
        "\n",
        "    for (int i = 0; i < N; i++)\n",
        "        arr[i] = rand() % 10000;\n",
        "\n",
        "    clock_t start = clock();\n",
        "\n",
        "    mergeSort(arr, 0, N - 1);\n",
        "\n",
        "    clock_t end = clock();\n",
        "\n",
        "    printf(\"CPU Merge Sort Time: %.6f ms\\\\n\", 1000.0 * (end - start) / CLOCKS_PER_SEC);\n",
        "\n",
        "    // Optional: verify it's sorted\n",
        "    for (int i = 1; i < N; i++) {\n",
        "        if (arr[i - 1] > arr[i]) {\n",
        "            printf(\"Error: Array not sorted.\\\\n\");\n",
        "            return 1;\n",
        "        }\n",
        "    }\n",
        "\n",
        "    printf(\"CPU Merge Sort completed successfully.\\\\n\");\n",
        "    return 0;\n",
        "}\n"
      ],
      "metadata": {
        "colab": {
          "base_uri": "https://localhost:8080/"
        },
        "id": "jRFDa9EXZPch",
        "outputId": "86344ebc-0770-428e-e635-00cc15f76530"
      },
      "execution_count": null,
      "outputs": [
        {
          "output_type": "stream",
          "name": "stdout",
          "text": [
            "Writing cpu_mergesort.cu\n"
          ]
        }
      ]
    },
    {
      "cell_type": "code",
      "source": [
        "%%writefile gpu_mergesort.cu\n",
        "#include <stdio.h>\n",
        "#include <stdlib.h>\n",
        "#include <cuda.h>\n",
        "\n",
        "#define N 1024 // Must be power of 2 for simplicity\n",
        "#define BLOCK_SIZE 512\n",
        "\n",
        "__global__ void mergeKernel(int* d_input, int* d_output, int width) {\n",
        "    int tid = blockIdx.x * blockDim.x + threadIdx.x;\n",
        "    int start = tid * 2 * width;\n",
        "\n",
        "    if (start + width >= N) return;\n",
        "\n",
        "    int mid = start + width - 1;\n",
        "    int end = (start + 2 * width - 1 < N) ? (start + 2 * width - 1) : (N - 1);\n",
        "\n",
        "    int i = start;\n",
        "    int j = mid + 1;\n",
        "    int k = start;\n",
        "\n",
        "    while (i <= mid && j <= end) {\n",
        "        if (d_input[i] <= d_input[j])\n",
        "            d_output[k++] = d_input[i++];\n",
        "        else\n",
        "            d_output[k++] = d_input[j++];\n",
        "    }\n",
        "\n",
        "    while (i <= mid) d_output[k++] = d_input[i++];\n",
        "    while (j <= end) d_output[k++] = d_input[j++];\n",
        "}\n",
        "\n",
        "int main() {\n",
        "    int h_input[N];\n",
        "    int* d_input, * d_output;\n",
        "\n",
        "    srand(42);\n",
        "    for (int i = 0; i < N; i++)\n",
        "        h_input[i] = rand() % 10000;\n",
        "\n",
        "    cudaMalloc(&d_input, N * sizeof(int));\n",
        "    cudaMalloc(&d_output, N * sizeof(int));\n",
        "    cudaMemcpy(d_input, h_input, N * sizeof(int), cudaMemcpyHostToDevice);\n",
        "\n",
        "    cudaEvent_t start, stop;\n",
        "    float time;\n",
        "    cudaEventCreate(&start);\n",
        "    cudaEventCreate(&stop);\n",
        "    cudaEventRecord(start);\n",
        "\n",
        "    int* temp;\n",
        "    for (int width = 1; width < N; width *= 2) {\n",
        "        int numBlocks = (N / (2 * width));\n",
        "        mergeKernel<<<numBlocks, 1>>>(d_input, d_output, width);\n",
        "\n",
        "        cudaDeviceSynchronize();\n",
        "        // Swap pointers for next level\n",
        "        temp = d_input;\n",
        "        d_input = d_output;\n",
        "        d_output = temp;\n",
        "    }\n",
        "\n",
        "    cudaEventRecord(stop);\n",
        "    cudaEventSynchronize(stop);\n",
        "    cudaEventElapsedTime(&time, start, stop);\n",
        "\n",
        "    cudaMemcpy(h_input, d_input, N * sizeof(int), cudaMemcpyDeviceToHost);\n",
        "\n",
        "    printf(\"GPU Merge Sort Time: %.6f ms\\\\n\", time);\n",
        "\n",
        "    // Verify\n",
        "    for (int i = 1; i < N; i++) {\n",
        "        if (h_input[i - 1] > h_input[i]) {\n",
        "            printf(\"Error: Array not sorted.\\\\n\");\n",
        "            return 1;\n",
        "        }\n",
        "    }\n",
        "\n",
        "    printf(\"GPU Merge Sort completed successfully.\\\\n\");\n",
        "\n",
        "    cudaFree(d_input);\n",
        "    cudaFree(d_output);\n",
        "    return 0;\n",
        "}\n"
      ],
      "metadata": {
        "colab": {
          "base_uri": "https://localhost:8080/"
        },
        "id": "DedXDAfYZfF3",
        "outputId": "1f3424cc-f72d-4c5c-9cfa-4ba2bb921490"
      },
      "execution_count": null,
      "outputs": [
        {
          "output_type": "stream",
          "name": "stdout",
          "text": [
            "Writing gpu_mergesort.cu\n"
          ]
        }
      ]
    },
    {
      "cell_type": "code",
      "source": [
        "!nvcc --gpu-architecture=sm_70 cpu_mergesort.cu -o cpu_mergesort\n",
        "!nvcc --gpu-architecture=sm_70 gpu_mergesort.cu -o gpu_mergesort\n",
        "\n",
        "!./cpu_mergesort\n",
        "!./gpu_mergesort\n"
      ],
      "metadata": {
        "colab": {
          "base_uri": "https://localhost:8080/"
        },
        "id": "QJRIBG6zZhg7",
        "outputId": "2b1a6165-1d50-4b0d-e517-65e02c591452"
      },
      "execution_count": null,
      "outputs": [
        {
          "output_type": "stream",
          "name": "stdout",
          "text": [
            "CPU Merge Sort Time: 0.164000 ms\\nCPU Merge Sort completed successfully.\\nGPU Merge Sort Time: 0.610464 ms\\nGPU Merge Sort completed successfully.\\n"
          ]
        }
      ]
    },
    {
      "cell_type": "code",
      "source": [
        "%%writefile vector_add.cu\n",
        "#include <stdio.h>\n",
        "#include <cuda.h>\n",
        "\n",
        "#define N 1024  // Size of vectors\n",
        "\n",
        "// 1.1 Statically defined global memory\n",
        "__device__ __managed__ float A[N], B[N], C[N];\n",
        "\n",
        "// Vector addition kernel\n",
        "__global__ void vectorAdd() {\n",
        "    int idx = threadIdx.x + blockDim.x * blockIdx.x;\n",
        "    if (idx < N) {\n",
        "        C[idx] = A[idx] + B[idx];\n",
        "    }\n",
        "}\n",
        "\n",
        "int main() {\n",
        "    // Initialize input vectors\n",
        "    for (int i = 0; i < N; i++) {\n",
        "        A[i] = float(i);\n",
        "        B[i] = float(2 * i);\n",
        "    }\n",
        "\n",
        "    // 1.2 Timing kernel execution\n",
        "    cudaEvent_t start, stop;\n",
        "    float milliseconds = 0;\n",
        "\n",
        "    cudaEventCreate(&start);\n",
        "    cudaEventCreate(&stop);\n",
        "    cudaEventRecord(start);\n",
        "\n",
        "    // Launch kernel\n",
        "    vectorAdd<<<(N + 255)/256, 256>>>();\n",
        "    cudaDeviceSynchronize();\n",
        "\n",
        "    cudaEventRecord(stop);\n",
        "    cudaEventSynchronize(stop);\n",
        "    cudaEventElapsedTime(&milliseconds, start, stop);\n",
        "\n",
        "    printf(\"Kernel execution time: %.6f ms\\\\n\", milliseconds);\n",
        "\n",
        "    // Check result (optional)\n",
        "    for (int i = 0; i < 5; i++)\n",
        "        printf(\"C[%d] = %.1f\\\\n\", i, C[i]);\n",
        "\n",
        "    // 1.3 Query CUDA Device Properties\n",
        "    cudaDeviceProp prop;\n",
        "    cudaGetDeviceProperties(&prop, 0);\n",
        "\n",
        "    float memClock = prop.memoryClockRate * 2.0f; // DDR = double pumped\n",
        "    float busWidth = prop.memoryBusWidth;\n",
        "\n",
        "    // Convert to GB/s: (KHz * bits) → GB/s\n",
        "    float theoreticalBW = (memClock * busWidth) / 8.0f / 1e6f;\n",
        "\n",
        "    printf(\"Theoretical Bandwidth: %.2f GB/s\\\\n\", theoreticalBW);\n",
        "\n",
        "    // 1.4 Calculate Measured Bandwidth\n",
        "    // RBytes = 2 * N * sizeof(float) [A and B]\n",
        "    // WBytes = N * sizeof(float)     [C]\n",
        "    float RBytes = 2 * N * sizeof(float);\n",
        "    float WBytes = N * sizeof(float);\n",
        "    float totalBytes = RBytes + WBytes;\n",
        "\n",
        "    float measuredBW = totalBytes / (milliseconds / 1000.0f) / 1e9f;\n",
        "\n",
        "    printf(\"Measured Bandwidth: %.2f GB/s\\\\n\", measuredBW);\n",
        "\n",
        "    return 0;\n",
        "}\n"
      ],
      "metadata": {
        "colab": {
          "base_uri": "https://localhost:8080/"
        },
        "id": "71ODSX8waNdM",
        "outputId": "3539ef19-1621-4ac9-d9b7-27758c33c7ed"
      },
      "execution_count": null,
      "outputs": [
        {
          "output_type": "stream",
          "name": "stdout",
          "text": [
            "Overwriting vector_add.cu\n"
          ]
        }
      ]
    },
    {
      "cell_type": "code",
      "source": [
        "!nvcc --gpu-architecture=sm_70 vector_add.cu -o vector_add\n",
        "!./vector_add\n"
      ],
      "metadata": {
        "colab": {
          "base_uri": "https://localhost:8080/"
        },
        "id": "5NQGw4JOaOEm",
        "outputId": "81c6fad2-7b8f-471f-e185-9d48f1a0c511"
      },
      "execution_count": null,
      "outputs": [
        {
          "output_type": "stream",
          "name": "stdout",
          "text": [
            "Kernel execution time: 0.220256 ms\\nC[0] = 0.0\\nC[1] = 3.0\\nC[2] = 6.0\\nC[3] = 9.0\\nC[4] = 12.0\\nTheoretical Bandwidth: 320.06 GB/s\\nMeasured Bandwidth: 0.06 GB/s\\n"
          ]
        }
      ]
    }
  ]
}